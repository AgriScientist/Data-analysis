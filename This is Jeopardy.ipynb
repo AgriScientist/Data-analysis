{
 "cells": [
  {
   "cell_type": "markdown",
   "metadata": {},
   "source": [
    "# This is Jeopardy!"
   ]
  },
  {
   "cell_type": "markdown",
   "metadata": {},
   "source": [
    "#### Overview"
   ]
  },
  {
   "cell_type": "markdown",
   "metadata": {},
   "source": [
    "This project is distinct from typical tutorials as it presents a series of flexible requirements rather than a step-by-step guide. The project encourages creative problem-solving and resourcefulness, leveraging various online platforms, including Codecademy and GitHub, to address challenges encountered during development."
   ]
  },
  {
   "cell_type": "markdown",
   "metadata": {},
   "source": [
    "#### Project Goals"
   ]
  },
  {
   "cell_type": "markdown",
   "metadata": {},
   "source": [
    "The project goal is to work and write several functions that investigate a dataset of _Jeopardy!_ questions and answers. Filter the dataset for topics that you're interested in, compute the average difficulty of those questions, and train to become the next Jeopardy champion!"
   ]
  },
  {
   "cell_type": "markdown",
   "metadata": {},
   "source": [
    "1. We've provided a csv file containing data about the game show _Jeopardy!_ in a file named `jeopardy.csv`. Load the data into a DataFrame and investigate its contents. Try to print out specific columns.\n",
    "\n",
    "   Note that in order to make this project as \"real-world\" as possible, we haven't modified the data at all - we're giving it to you exactly how we found it. As a result, this data isn't as \"clean\" as the datasets you normally find on Codecademy. More specifically, there's something odd about the column names. After you figure out the problem with the column names, you may want to rename them to make your life easier for the rest of the project.\n",
    "   \n",
    "   In order to display the full contents of a column, we've added this line of code for you:\n",
    "   \n",
    "   ```py\n",
    "   pd.set_option('display.max_colwidth', None)\n",
    "   ```"
   ]
  },
  {
   "cell_type": "code",
   "execution_count": 1,
   "metadata": {},
   "outputs": [
    {
     "name": "stdout",
     "output_type": "stream",
     "text": [
      "   Show Number    Air Date      Round                         Category  Value  \\\n",
      "0         4680  2004-12-31  Jeopardy!                          HISTORY   $200   \n",
      "1         4680  2004-12-31  Jeopardy!  ESPN's TOP 10 ALL-TIME ATHLETES   $200   \n",
      "2         4680  2004-12-31  Jeopardy!      EVERYBODY TALKS ABOUT IT...   $200   \n",
      "3         4680  2004-12-31  Jeopardy!                 THE COMPANY LINE   $200   \n",
      "4         4680  2004-12-31  Jeopardy!              EPITAPHS & TRIBUTES   $200   \n",
      "\n",
      "                                                                                                      Question  \\\n",
      "0             For the last 8 years of his life, Galileo was under house arrest for espousing this man's theory   \n",
      "1  No. 2: 1912 Olympian; football star at Carlisle Indian School; 6 MLB seasons with the Reds, Giants & Braves   \n",
      "2                     The city of Yuma in this state has a record average of 4,055 hours of sunshine each year   \n",
      "3                         In 1963, live on \"The Art Linkletter Show\", this company served its billionth burger   \n",
      "4     Signer of the Dec. of Indep., framer of the Constitution of Mass., second President of the United States   \n",
      "\n",
      "       Answer  \n",
      "0  Copernicus  \n",
      "1  Jim Thorpe  \n",
      "2     Arizona  \n",
      "3  McDonald's  \n",
      "4  John Adams  \n"
     ]
    }
   ],
   "source": [
    "import pandas as pd\n",
    "import random as random\n",
    "pd.set_option('display.max_colwidth', None)\n",
    "jeopardy = pd.read_csv('jeopardy.csv')\n",
    "print(jeopardy.head())\n",
    "jeopardy = jeopardy.rename(columns={' Show Number': 'Show Number', ' Air Date': 'Air Date', ' Round': 'Round', ' Category': 'Category', ' Value': 'Value', ' Question': 'Question', ' Answer': 'Answer'})\n",
    "\n"
   ]
  },
  {
   "cell_type": "markdown",
   "metadata": {},
   "source": [
    "2. Write a function that filters the dataset for questions that contains all of the words in a list of words. For example, when the list `[\"King\", \"England\"]` was passed to our function, the function returned a DataFrame of 49 rows. Every row had the strings `\"King\"` and `\"England\"` somewhere in its `\" Question\"`.\n",
    "\n",
    "   Test your function by printing out the column containing the question of each row of the dataset."
   ]
  },
  {
   "cell_type": "code",
   "execution_count": 2,
   "metadata": {
    "scrolled": true
   },
   "outputs": [
    {
     "name": "stdout",
     "output_type": "stream",
     "text": [
      "        Show Number    Air Date             Round  \\\n",
      "3248           5084  2006-10-19         Jeopardy!   \n",
      "3710           4398  2003-10-22         Jeopardy!   \n",
      "8124           4724  2005-03-03         Jeopardy!   \n",
      "14091          5110  2006-11-24         Jeopardy!   \n",
      "16369          4344  2003-06-19         Jeopardy!   \n",
      "27304          5887  2010-03-30  Double Jeopardy!   \n",
      "29997          3724  2000-11-09  Double Jeopardy!   \n",
      "32174          5568  2008-11-19         Jeopardy!   \n",
      "41203          1886  1992-11-16  Double Jeopardy!   \n",
      "50224          1285  1990-03-16         Jeopardy!   \n",
      "55863          3286  1998-12-14         Jeopardy!   \n",
      "58561           446  1986-05-26  Double Jeopardy!   \n",
      "68279          4585  2004-07-09         Jeopardy!   \n",
      "74954          6283  2012-01-04  Double Jeopardy!   \n",
      "96889          3667  2000-07-11  Double Jeopardy!   \n",
      "100566         5414  2008-03-06  Double Jeopardy!   \n",
      "108327         6083  2011-02-09         Jeopardy!   \n",
      "112736         3638  2000-05-31   Final Jeopardy!   \n",
      "115081         3652  2000-06-20         Jeopardy!   \n",
      "117059         4341  2003-06-16         Jeopardy!   \n",
      "140591         4547  2004-05-18  Double Jeopardy!   \n",
      "146483         3455  1999-09-17  Double Jeopardy!   \n",
      "164397         5870  2010-03-05         Jeopardy!   \n",
      "167821         4316  2003-05-12         Jeopardy!   \n",
      "177684         3125  1998-03-13         Jeopardy!   \n",
      "180093         5248  2007-06-06  Double Jeopardy!   \n",
      "180147         5749  2009-09-17  Double Jeopardy!   \n",
      "189230         4368  2003-09-10  Double Jeopardy!   \n",
      "189236         4368  2003-09-10  Double Jeopardy!   \n",
      "190131         4211  2002-12-16  Double Jeopardy!   \n",
      "209177         4785  2005-05-27         Jeopardy!   \n",
      "\n",
      "                                   Category     Value  \\\n",
      "3248                          AT THE MOVIES     $1000   \n",
      "3710                PRESIDENTIAL RHYME TIME      $200   \n",
      "8124                               FEMINISM      $200   \n",
      "14091             OSCAR WINNERS' RHYME TIME      $600   \n",
      "16369                         WHAT TO WEAR?      $800   \n",
      "27304                      HISTORIC FASHION      $800   \n",
      "29997                 A PASSION FOR FASHION      $600   \n",
      "32174                          PIONEER LIFE      $400   \n",
      "41203                       FASHION HISTORY      $600   \n",
      "50224                            RHYME TIME      $300   \n",
      "55863                          MADE OF CLAY      $500   \n",
      "58561                               FASHION      $200   \n",
      "68279                   THE QUEEN'S ENGLISH      $800   \n",
      "74954                               \"G-P-S\"      $800   \n",
      "96889                          '50s FASHION      $600   \n",
      "100566                        \"PAN\"HANDLING     $1200   \n",
      "108327             WHAT'S IN YOUR \"C\"LOSET?      $400   \n",
      "112736                             CLOTHING  no value   \n",
      "115081              PRESIDENTIAL RHYME TIME      $200   \n",
      "117059                        ANNUAL EVENTS      $400   \n",
      "140591                HARLEQUIN & COLUMBINE     $2000   \n",
      "146483                        '70s FASHIONS      $800   \n",
      "164397             WHAT AM I GOING TO WEAR?     $1000   \n",
      "167821                            LIMERICKS      $200   \n",
      "177684                       HORSING AROUND      $300   \n",
      "180093                               \"Z\" ME     $1600   \n",
      "180147                          \"E\" TIMES 3     $1600   \n",
      "189230                      WORLDWIDE PANTS     $1200   \n",
      "189236                      WORLDWIDE PANTS     $1600   \n",
      "190131                              FASHION     $1600   \n",
      "209177  QUOTES FROM THE BATTLE OF THE SEXES      $200   \n",
      "\n",
      "                                                                                                                                                                                                Question  \\\n",
      "3248                                                                                                                                                 2005: A group of teenage chicks share some trousers   \n",
      "3710                                                                                                                                                                                   Ulysses' trousers   \n",
      "8124                                                                                            Elizabeth Cady Stanton's cousin Elizabeth Smith Miller first wore these trousers named for another woman   \n",
      "14091                                                                                                                                                                               Nicholson's trousers   \n",
      "16369                                                                                      TV once had a special \"room\" for this 1-piece child's outfit with short, loose trousers gathered at the knees   \n",
      "27304                                                                                         This term for old-fashioned trousers ending just below the knee derives from a Washington Irving character   \n",
      "29997                                                                                                              Seen here, these trousers bear the name of the island where they first became popular   \n",
      "32174                                                                                                       Frontiersmen wore trousers of this animal's skin, the leather in the \"Leatherstocking Tales\"   \n",
      "41203                                                                                                                   Had she kept her maiden name, these full trousers would have been called Jenkses   \n",
      "50224                                                                                                                    1940's style with tight cuffed trousers. wide lapels & heavily padded shoulders   \n",
      "55863                                                                                                    These man & dog stars of \"The Wrong Trousers\" are made with a mixture of plasticine, wax & clay   \n",
      "58561                                                                                                      Though WWII's \"Rosie the Riveter\" wore them, this war 1st popularized trousers for womenswear   \n",
      "68279                                                                                                                          A turn-up on your trousers there, becomes one of these on your pants here   \n",
      "74954                                                                                                                              These trousers are modeled after those worn by South American cowboys   \n",
      "96889                                                                                                This polyester fiber from Du Pont made men's trousers \"Neater...more comofortable...with less care\"   \n",
      "100566                                                                                                   These wide trousers extending from the waist to the ankles were popular in late 17th c. England   \n",
      "108327                                                                                                                                     These trousers made of cotton twill cloth & similar to khakis   \n",
      "112736                                                                                                Article of clothing named for an old character who dressed in loose trousers in Commedia Dell'arte   \n",
      "115081                                                                                                                                                                                 Ulysses' trousers   \n",
      "117059                                                                                   Japan's Shichi-Go-San, or \"7-5-3\", celebrates 5-year-olds wearing trousers & 7-year-olds tying this with an obi   \n",
      "140591                                                                                           In English theater Columbine was the daughter of this old character who wore the trousers in the family   \n",
      "146483                                                                                                    This 1977 film popularized baggy tailored trousers, hats with upturned brims & vests for women   \n",
      "164397                                                                                                                                 The name of this Tyrolean get-up is German for \"leather trousers\"   \n",
      "167821  Here's a sartorial story <i>There was a young man of the cape, who always wore trousers of crepe, when asked don't they tear, he replied here and there,</i> but they keep such a beautiful ____   \n",
      "177684                                                                                                     Some cowboys wear these seatless leather trousers to protect their legs when they ride horses   \n",
      "180093                                                                                                           This 1940s fashion favorite featured baggy trousers & an oversized, padded sport jacket   \n",
      "180147                                                                                                                                                                              Knee-length trousers   \n",
      "189230                                                                                              The name of Jack Tar trousers, popular in the 19th century, is a term for someone in this profession   \n",
      "189236                                                                                                                         One of Lee Jeans' brand names is Lee these, meaning sturdy denim trousers   \n",
      "190131                                                                                                    Ja, the name of these traditional Bavarian shorts comes from the German for \"leather trousers\"   \n",
      "209177                                                                               Asked who wore the trousers, this British prime minister's husband responded, \"I do, and I also wash and iron them\"   \n",
      "\n",
      "                                       Answer  \n",
      "3248    The Sisterhood of the Traveling Pants  \n",
      "3710                            Grant's pants  \n",
      "8124                                 bloomers  \n",
      "14091                           Jack's slacks  \n",
      "16369                                a romper  \n",
      "27304                         a knickerbocker  \n",
      "29997                             Capri pants  \n",
      "32174                                deerskin  \n",
      "41203                                Bloomers  \n",
      "50224                               Zoot Suit  \n",
      "55863                        Wallace & Gromit  \n",
      "58561                             World War I  \n",
      "68279                                  a cuff  \n",
      "74954                            gaucho pants  \n",
      "96889                                  Dacron  \n",
      "100566                             pantaloons  \n",
      "108327                                 chinos  \n",
      "112736       Pantaloons (named for Pantalone)  \n",
      "115081                          Grant's pants  \n",
      "117059                                 kimono  \n",
      "140591                              Pantalone  \n",
      "146483                             Annie Hall  \n",
      "164397                             Lederhosen  \n",
      "167821                                  shape  \n",
      "177684                                  chaps  \n",
      "180093                            a zoot suit  \n",
      "180147                               breeches  \n",
      "189230                                 sailor  \n",
      "189236                              dungarees  \n",
      "190131                             lederhosen  \n",
      "209177                      Margaret Thatcher  \n"
     ]
    }
   ],
   "source": [
    "def data_filter(data, words):\n",
    "    my_lambda = lambda question: all(word.lower() in question.lower() for word in words)\n",
    "    filtered = data.loc[data['Question'].apply(my_lambda)]\n",
    "    return filtered\n",
    "print(data_filter(jeopardy, ['trousers']))"
   ]
  },
  {
   "cell_type": "markdown",
   "metadata": {},
   "source": [
    "4. We may want to eventually compute aggregate statistics, like `.mean()` on the `\" Value\"` column. But right now, the values in that column are strings. Convert the`\" Value\"` column to floats. If you'd like to, you can create a new column with float values.\n",
    "\n",
    "   While most of the values in the `\" Value\"` column represent a dollar amount as a string, note that some do not &mdash; these values will need to be handled differently!\n",
    "\n",
    "   Now that you can filter the dataset of question, use your new column that contains the float values of each question to find the \"difficulty\" of certain topics. For example, what is the average value of questions that contain the word `\"King\"`?\n",
    "   \n",
    "   Make sure to use the dataset that contains the float values as the dataset you use in your filtering function."
   ]
  },
  {
   "cell_type": "code",
   "execution_count": 3,
   "metadata": {},
   "outputs": [
    {
     "name": "stdout",
     "output_type": "stream",
     "text": [
      "739.9884755451067\n",
      "771.8833850722094\n"
     ]
    }
   ],
   "source": [
    "#Here I create a new column 'float_value' with removed '$' sign.\n",
    "jeopardy['float_value'] = jeopardy['Value'].apply(lambda string: float(str(string).replace('$', '').replace(',', '')) if string != 'no value' and string != 'NaN' else 0)\n",
    "\n",
    "print(jeopardy['float_value'].mean())\n",
    "\n",
    "#Difficultness of this topic is around 771\n",
    "filtered = data_filter(jeopardy, ['king'])\n",
    "print(filtered['float_value'].mean())\n",
    "\n",
    "\n",
    "            \n"
   ]
  },
  {
   "cell_type": "markdown",
   "metadata": {},
   "source": [
    "5. Write a function that returns the count of unique answers to all of the questions in a dataset. For example, after filtering the entire dataset to only questions containing the word `\"King\"`, we could then find all of the unique answers to those questions. The answer \"Henry VIII\" appeared 55 times and was the most common answer."
   ]
  },
  {
   "cell_type": "code",
   "execution_count": 8,
   "metadata": {},
   "outputs": [
    {
     "name": "stdout",
     "output_type": "stream",
     "text": [
      "Answer\n",
      "Henry VIII                   55\n",
      "Solomon                      35\n",
      "Richard III                  33\n",
      "Louis XIV                    31\n",
      "David                        30\n",
      "                             ..\n",
      "cardiac (in card I acted)     1\n",
      "Henderson                     1\n",
      "Computer                      1\n",
      "Indians                       1\n",
      "work                          1\n",
      "Name: count, Length: 5268, dtype: int64\n"
     ]
    }
   ],
   "source": [
    "# In this function we are counting the answers which have the word 'king' in the questions.\n",
    "def unique_answers(data, answer):\n",
    "    filter_1 = data_filter(data, answer)\n",
    "    return filter_1.Answer.value_counts()\n",
    "print(unique_answers(jeopardy, ['King']))\n",
    "\n"
   ]
  },
  {
   "cell_type": "markdown",
   "metadata": {},
   "source": [
    "6. Explore from here! This is an incredibly rich dataset, and there are so many interesting things to discover. There are a few columns that we haven't even started looking at yet. Here are some ideas on ways to continue working with this data:\n",
    "\n",
    " * Investigate the ways in which questions change over time by filtering by the date. How many questions from the 90s use the word `\"Computer\"` compared to questions from the 2000s?\n",
    " * Is there a connection between the round and the category? Are you more likely to find certain categories, like `\"Literature\"` in Single Jeopardy or Double Jeopardy?\n",
    " * Build a system to quiz yourself. Grab random questions, and use the <a href=\"https://docs.python.org/3/library/functions.html#input\">input</a> function to get a response from the user. Check to see if that response was right or wrong."
   ]
  },
  {
   "cell_type": "markdown",
   "metadata": {},
   "source": [
    "1. Investigate the ways in which questions change over time by filtering by the date. How many questions from the 90s use the word \"Computer\" compared to questions from the 2000s?"
   ]
  },
  {
   "cell_type": "code",
   "execution_count": 24,
   "metadata": {
    "scrolled": true
   },
   "outputs": [
    {
     "name": "stdout",
     "output_type": "stream",
     "text": [
      "Questions with the word ['Jeopardy'] in 1990s: 58; Questions with the ['Jeopardy'] in 2000s: 139\n"
     ]
    }
   ],
   "source": [
    "#At row below the 'Year' columns first 4 numbers are turned from string to integer\n",
    "jeopardy['Year'] = jeopardy['Air Date'].str[:4].astype(int)\n",
    "#this function is investigating have often certain words are encountered in 1990s and 2000s.\n",
    "def investigate_word(data, words):\n",
    "    filtered = data_filter(data, words)\n",
    "    questions_90s = filtered[filtered['Year'] <= 2000]\n",
    "    questions_90s = len(questions_90s[questions_90s.Year > 1990])\n",
    "    questions_2000s = len(filtered[filtered.Year > 2000])\n",
    "    return f'Questions with the word {words} in 1990s: {questions_90s}; Questions with the {words} in 2000s: {questions_2000s}'\n",
    "print(investigate_word(jeopardy, ['Jeopardy']))\n"
   ]
  },
  {
   "cell_type": "markdown",
   "metadata": {},
   "source": [
    "2. Is there a connection between the round and the category? Are you more likely to find certain categories, like \"Literature\" in Single Jeopardy or Double Jeopardy?"
   ]
  },
  {
   "cell_type": "code",
   "execution_count": 25,
   "metadata": {},
   "outputs": [
    {
     "name": "stdout",
     "output_type": "stream",
     "text": [
      "The round \"Double Jeopard!\" is 60.0% more encountered compared to \"Jeopardy\" for the word \"Literature\"\n",
      "The ration of Jeopardy to Double Jeopardy to Final Jeopardy to Tirbreaker is 55 : 88 : 8 : 0 for the word \"Literature\".\n"
     ]
    }
   ],
   "source": [
    "#Here the code is comparing how much the word 'Literature' is encountered between the rounds - Jepardy and Double Jeopardy\n",
    "filtered_df = data_filter(jeopardy, ['Literature'])[['Round', 'Category']]\n",
    "double_jeopardy = filtered_df[filtered_df['Round'] == 'Double Jeopardy!'].shape[0]\n",
    "single_jeopardy = filtered_df[filtered_df['Round'] == 'Jeopardy!'].shape[0] \n",
    "final_jeopardy = filtered_df[filtered_df['Round'] == 'Final Jeopardy!'].shape[0] \n",
    "tirbreaker = filtered_df[filtered_df['Round'] == 'Tiebreaker'].shape[0] \n",
    "filtered_df = (((double_jeopardy - single_jeopardy)/single_jeopardy)* 100)\n",
    "print(f'The round \"Double Jeopard!\" is {filtered_df:.1f}% more encountered compared to \"Jeopardy\" for the word \"Literature\"'\n",
    "      f'\\nThe ration of Jeopardy to Double Jeopardy to Final Jeopardy to Tirbreaker is {single_jeopardy} : {double_jeopardy} : {final_jeopardy} : {tirbreaker} for the word \"Literature\".' )\n"
   ]
  },
  {
   "cell_type": "markdown",
   "metadata": {},
   "source": [
    "3. Build a system to quiz yourself. Grab random questions, and use the input function to get a response from the user. Check to see if that response was right or wrong."
   ]
  },
  {
   "cell_type": "code",
   "execution_count": 14,
   "metadata": {},
   "outputs": [
    {
     "name": "stdout",
     "output_type": "stream",
     "text": [
      "The 2 states' largest cities are Fargo & Sioux Falls, not these, their capitals\n",
      "Your response: fa\n",
      "Wrong... :(\n",
      "The right answer is: Bismarck & Pierre\n",
      "|\n",
      "Spain's National Organization for the Blind maintains the touchy-feely Museo Tiflologico in this city\n",
      "Your response: Madrid\n",
      "Your are right!\n",
      "Bravo! :)\n",
      "You received: 400.0\n",
      "|\n",
      "\"Write if you get work\" was Ray Goulding's catchphrase as half of this duo\n",
      "Your response: Slade\n",
      "Wrong... :(\n",
      "The right answer is: Bob and Ray\n",
      "|\n",
      "A keratotomy is an incision of this eye part; a keratectomy removes part of it\n",
      "Your response: Cornea\n",
      "Wrong... :(\n",
      "The right answer is: the cornea\n",
      "|\n",
      "In 1889 this Elizabethport, New Jersey company electrified the sewing machine\n",
      "Your response: Car\n",
      "Wrong... :(\n",
      "The right answer is: Singer\n",
      "|\n",
      "Thanks for playing your score is 400.0\n"
     ]
    }
   ],
   "source": [
    "#The code below is a jeopardy game which has input and testing whether it is right or wrong.\n",
    "def quiz(data):\n",
    "    number = random.randint(0, 216930)\n",
    "    question = data.Question.iloc[number]\n",
    "    point =0\n",
    "    print(question)\n",
    "    answer = input('Your response: ')\n",
    "    if answer == data.Answer.iloc[number]:\n",
    "        print(\"Your are right!\\nBravo! :)\")\n",
    "        print(f'You received: {data.float_value.iloc[number]}')\n",
    "        point += data.float_value.iloc[number]\n",
    "    else:\n",
    "        print(\"Wrong... :(\")\n",
    "        print(f'The right answer is: {data.Answer.iloc[number]}')\n",
    "        point = 0\n",
    "    print('|')\n",
    "    return point\n",
    "\n",
    "def game(data):\n",
    "    score = 0\n",
    "    for n in range(5):\n",
    "        score += quiz(data)\n",
    "    print(f'Thanks for playing your score is {score}')\n",
    "game(jeopardy)"
   ]
  }
 ],
 "metadata": {
  "kernelspec": {
   "display_name": "Python 3 (ipykernel)",
   "language": "python",
   "name": "python3"
  },
  "language_info": {
   "codemirror_mode": {
    "name": "ipython",
    "version": 3
   },
   "file_extension": ".py",
   "mimetype": "text/x-python",
   "name": "python",
   "nbconvert_exporter": "python",
   "pygments_lexer": "ipython3",
   "version": "3.11.5"
  }
 },
 "nbformat": 4,
 "nbformat_minor": 2
}
